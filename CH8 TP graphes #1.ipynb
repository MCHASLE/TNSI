{
 "cells": [
  {
   "cell_type": "markdown",
   "metadata": {},
   "source": [
    "<td><tr><img src=\"https://pixees.fr/informatiquelycee/n_site/img/nsi_term_algo_graph_3.png\">\n",
    "<center>graphe 1</center></tr>\n",
    "    <tr><img src=\"https://upload.wikimedia.org/wikipedia/commons/thumb/2/23/Directed_graph_no_background.svg/1024px-Directed_graph_no_background.svg.png\" width=300><center>graphe 2</center></tr>"
   ]
  },
  {
   "cell_type": "markdown",
   "metadata": {},
   "source": [
    "# CH8 - Les graphes. TP1 \n",
    "\n",
    "\n",
    "## 1 rappel sur les matrices et les dictionnaires :\n",
    "\n",
    "### a : Les matrices"
   ]
  },
  {
   "cell_type": "markdown",
   "metadata": {},
   "source": [
    "Construire en Python la matrice suivante :\n",
    "<img src=\"https://wikimedia.org/api/rest_v1/media/math/render/svg/4c20e4418a8ef3bb73568ab7626ea69601b677eb\">"
   ]
  },
  {
   "cell_type": "code",
   "execution_count": null,
   "metadata": {},
   "outputs": [],
   "source": []
  },
  {
   "cell_type": "markdown",
   "metadata": {},
   "source": [
    "Quel code permet d'obtenir la valeur 7 à partir de A ?"
   ]
  },
  {
   "cell_type": "code",
   "execution_count": null,
   "metadata": {},
   "outputs": [],
   "source": []
  },
  {
   "cell_type": "markdown",
   "metadata": {},
   "source": [
    "Quel code permet d'obtenir la deuxième colonne sous forme de liste ?"
   ]
  },
  {
   "cell_type": "code",
   "execution_count": null,
   "metadata": {},
   "outputs": [],
   "source": []
  },
  {
   "cell_type": "markdown",
   "metadata": {},
   "source": [
    "Soit n un entier > 0, réaliser une matrice carrée nxn dont chaque élément est la somme de ses coordonnées :"
   ]
  },
  {
   "cell_type": "code",
   "execution_count": null,
   "metadata": {},
   "outputs": [],
   "source": []
  },
  {
   "cell_type": "markdown",
   "metadata": {},
   "source": [
    "### b : les dictionnaires \n",
    "\n",
    "Paul a 5 ans, Sylvie 7 ans, Rémi 4 ans et Antoine 8 ans. Réaliser un dictionnaire où les prénoms sont les clés et les ages les valeurs."
   ]
  },
  {
   "cell_type": "code",
   "execution_count": null,
   "metadata": {},
   "outputs": [],
   "source": []
  },
  {
   "cell_type": "markdown",
   "metadata": {},
   "source": [
    "Calculer l'âge moyen des enfants par lecture du dictionnaire "
   ]
  },
  {
   "cell_type": "code",
   "execution_count": null,
   "metadata": {},
   "outputs": [],
   "source": []
  },
  {
   "cell_type": "markdown",
   "metadata": {},
   "source": [
    "Créer la liste des enfants de plus de 6 ans par lecture du dictionnaire"
   ]
  },
  {
   "cell_type": "code",
   "execution_count": null,
   "metadata": {},
   "outputs": [],
   "source": []
  },
  {
   "cell_type": "markdown",
   "metadata": {},
   "source": [
    "## 2 Représenter les graphes suivants :\n",
    "\n",
    "|  Graphe 1 | Graphe 2 |\n",
    "| --------- | -------- |\n",
    "| <img src=\"https://upload.wikimedia.org/wikipedia/commons/thumb/2/23/Directed_graph_no_background.svg/1024px-Directed_graph_no_background.svg.png\" width=200> |  <img src=\"https://upload.wikimedia.org/wikipedia/commons/thumb/5/5b/6n-graf.svg/1024px-6n-graf.svg.png\" width=200> |\n",
    "\n",
    "- sous forme de liste d'adjacence (dictionnaire)\n",
    "- sous forme de matrice d'adjacence . On réalisera en réalité un dictionnaire avec deux clés :\n",
    "  * `\"sommets\"` contenant la liste des sommets\n",
    "  * `\"adjacences\"` contenant la matrice d'adjacence\n",
    "  \n",
    "  Pour vérifier graphiquement, on pourra utiliser le module graphviz et les deux fonctions suivantes : "
   ]
  },
  {
   "cell_type": "code",
   "execution_count": null,
   "metadata": {},
   "outputs": [],
   "source": [
    "# Chargement du module graphique\n",
    "from graphviz import Graph, Digraph"
   ]
  },
  {
   "cell_type": "code",
   "execution_count": null,
   "metadata": {},
   "outputs": [],
   "source": [
    "def affiche_mat(gr,nom,orient):\n",
    "    \"\"\"\n",
    "    entree : gr (dict) un graphe défini par matrice\n",
    "                 ce graphe est un dictionnaire contenant 2 clés\n",
    "                 \"sommets\" a pour valeur la liste des sommets\n",
    "                 \"adjacence\" est la matrice d'adjacence\n",
    "             nom (str) le noim du fichier png créé\n",
    "             orient (bool) le graphe est-il orienté ?\n",
    "    sortie : aucune, mais création d'un fichier nom.png\n",
    "    \"\"\"\n",
    "    if orient :\n",
    "        g = Digraph(format='png')\n",
    "    else:\n",
    "        g = Graph(format='png')\n",
    "    for s in gr[\"sommets\"]: # sommets\n",
    "        g.node(s,s)\n",
    "    n=len(gr[\"sommets\"])\n",
    "    for i in range(n) :\n",
    "        for j in range(n):\n",
    "            if gr[\"adjacence\"][i][j]==1:\n",
    "                if orient or i<=j : # astuce pour éviter les doublons dans les arêtes \n",
    "                    g.edge(gr[\"sommets\"][i],gr[\"sommets\"][j])\n",
    "    g.render(nom)"
   ]
  },
  {
   "cell_type": "code",
   "execution_count": null,
   "metadata": {},
   "outputs": [],
   "source": [
    "def affiche_adj(gr,nom,orient):\n",
    "    \"\"\"\n",
    "    entree : gr (dict) un graphe défini par liste d'adjacence\n",
    "             nom (str) le noim du fichier png créé\n",
    "             orient (bool) le graphe est-il orienté ?\n",
    "    sortie : aucune, mais création d'un fichier nom.png\n",
    "    \"\"\"\n",
    "    # 1 creation de l'objet \n",
    "    if orient :\n",
    "        g = Digraph(format='png')   # graphe avec des arcs\n",
    "    else :\n",
    "        g = Graph(format='png')   # graph avec des arêtes\n",
    "    for cle in gr.keys(): # sommets\n",
    "        g.node(cle,cle)\n",
    "    for cle,valeur in gr.items(): # arêtes\n",
    "        for s in valeur:\n",
    "            if orient or cle<=s : # astuce pour éviter les doublons dans les arêtes \n",
    "                g.edge(cle,s)\n",
    "    g.render(nom)"
   ]
  }
 ],
 "metadata": {
  "kernelspec": {
   "display_name": "Python 3",
   "language": "python",
   "name": "python3"
  },
  "language_info": {
   "codemirror_mode": {
    "name": "ipython",
    "version": 3
   },
   "file_extension": ".py",
   "mimetype": "text/x-python",
   "name": "python",
   "nbconvert_exporter": "python",
   "pygments_lexer": "ipython3",
   "version": "3.7.1"
  }
 },
 "nbformat": 4,
 "nbformat_minor": 2
}
