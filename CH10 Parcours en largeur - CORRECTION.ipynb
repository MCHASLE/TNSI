{
 "cells": [
  {
   "cell_type": "markdown",
   "metadata": {},
   "source": [
    "# CH10 Parcours en largeur d'un arbre - CORRECTION \n",
    "\n",
    "Nous avons étudié 3 parcours en ***profondeur d'abord*** (infixe, postfixe, préfixe). C'est à dire qu'in branche est explorée jusqu'à la feuille avant de passer aux autres fils.\n",
    "\n",
    "\n",
    "## Ex 1 : Rappel .\n",
    "Donner l'affichage résultant de parcours infixe, postfixe etpréfixe pour l'arbre binaire suivant :\n",
    "<img src=\"https://upload.wikimedia.org/wikipedia/commons/thumb/d/da/Binary_search_tree.svg/245px-Binary_search_tree.svg.png\">\n"
   ]
  },
  {
   "cell_type": "markdown",
   "metadata": {},
   "source": [
    "## Ex 2 : Parcours en largeur d'abord.\n",
    "\n",
    "On considère l'organigramme suivant.\n",
    "<img src=\"orga.jpg\" width=300>\n",
    "\n",
    "Il s'agit de faire la liste du personnel de direction, en respectant l'ordre hierarchique. \n",
    "Donner cette liste \"à la main\""
   ]
  },
  {
   "cell_type": "code",
   "execution_count": null,
   "metadata": {},
   "outputs": [],
   "source": []
  },
  {
   "cell_type": "markdown",
   "metadata": {},
   "source": [
    "## Ex 3. Implémentation en Python du parcours en largeur\n",
    "\n",
    "idée : on stocke les "
   ]
  }
 ],
 "metadata": {
  "kernelspec": {
   "display_name": "Python 3",
   "language": "python",
   "name": "python3"
  },
  "language_info": {
   "codemirror_mode": {
    "name": "ipython",
    "version": 3
   },
   "file_extension": ".py",
   "mimetype": "text/x-python",
   "name": "python",
   "nbconvert_exporter": "python",
   "pygments_lexer": "ipython3",
   "version": "3.7.1"
  }
 },
 "nbformat": 4,
 "nbformat_minor": 2
}
