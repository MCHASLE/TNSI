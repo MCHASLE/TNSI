{
 "cells": [
  {
   "cell_type": "markdown",
   "metadata": {},
   "source": [
    "##  TP transversal \n",
    "## Exécution d'une expression algébrique en notation postfixe - ELEVE\n",
    "\n",
    "Idée : \n",
    "1. on transforme l'expression en une liste à l'aide de la commande `exp.split(\" \")` car le séparateur de l'expression est l'espace. On suppose que les éléments sont donc espacés.\n",
    "2. On parcourt la liste :\n",
    "  - si l'élément est un nombre, on l'empile\n",
    "  - si l'élément est un opérateur, on dépile les 2 derniers éléments de la pile et on calcule. Le résultat du calcul est ensuite empilé. "
   ]
  },
  {
   "cell_type": "code",
   "execution_count": 1,
   "metadata": {},
   "outputs": [],
   "source": [
    "class Pile:\n",
    "    '''\n",
    "    attribut : la liste sous jacente. Cet attribut est normalement inaccessible\n",
    "    méthodes : push, pop, empty, size\n",
    "    '''\n",
    "    def __init__(self):\n",
    "        self.l=[]\n",
    "        \n",
    "    def push(self,val):\n",
    "        self.l.append(val)\n",
    "        \n",
    "    def pop(self):\n",
    "        if len(self.l)>0:\n",
    "            return self.l.pop()\n",
    "        else :\n",
    "            return None\n",
    "    \n",
    "    def empty(self):\n",
    "        return len(self.l)==0\n",
    "    \n",
    "    def size(self):\n",
    "        return len(self.l)\n",
    "    \n",
    "    def __str__(self):\n",
    "        return str(self.l)"
   ]
  },
  {
   "cell_type": "markdown",
   "metadata": {},
   "source": [
    "## 1. Avec un papier et un crayon, effectuer l'algorithme du calcul de ( 2 3 5 * + )\n",
    "\n",
    "## 2. Coder la fonction calcule(operateur, operande1,operande2 )\n",
    "\n",
    "**calcule : str x str x str -> float**\n",
    "\n",
    "exemple : `calcule('+','3','5')-> 8`\n",
    "\n",
    "On proposera un jeu de test pertinent "
   ]
  },
  {
   "cell_type": "code",
   "execution_count": 15,
   "metadata": {},
   "outputs": [],
   "source": []
  },
  {
   "cell_type": "code",
   "execution_count": 17,
   "metadata": {},
   "outputs": [],
   "source": [
    "# jeu de tests\n"
   ]
  },
  {
   "cell_type": "markdown",
   "metadata": {},
   "source": [
    "## 3. Coder la fonction evalue(exp)\n",
    "\n",
    "**evalue(str) -> float**\n",
    "\n",
    "exemple : `evalue('2 3 5 * +') -> 17`\n",
    "\n",
    "On proposera un jeu de test pertinent "
   ]
  },
  {
   "cell_type": "code",
   "execution_count": 10,
   "metadata": {},
   "outputs": [],
   "source": []
  },
  {
   "cell_type": "code",
   "execution_count": 22,
   "metadata": {},
   "outputs": [],
   "source": [
    "# jeu de tests"
   ]
  }
 ],
 "metadata": {
  "kernelspec": {
   "display_name": "Python 3",
   "language": "python",
   "name": "python3"
  },
  "language_info": {
   "codemirror_mode": {
    "name": "ipython",
    "version": 3
   },
   "file_extension": ".py",
   "mimetype": "text/x-python",
   "name": "python",
   "nbconvert_exporter": "python",
   "pygments_lexer": "ipython3",
   "version": "3.7.3"
  }
 },
 "nbformat": 4,
 "nbformat_minor": 2
}
