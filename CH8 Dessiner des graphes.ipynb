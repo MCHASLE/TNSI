{
 "cells": [
  {
   "cell_type": "markdown",
   "metadata": {},
   "source": [
    "# CH8 Le module graphviz pour dessiner des graphes"
   ]
  },
  {
   "cell_type": "code",
   "execution_count": null,
   "metadata": {},
   "outputs": [],
   "source": [
    "# pour installler le module graphviz sur l'ordinateur (à n'exécuter qu'une fois dans le prompt anaconda)\n",
    "set https_proxy=https://10.0.0.1:3128  # cas où il y a un proxy\n",
    "pip install graphviz"
   ]
  },
  {
   "cell_type": "code",
   "execution_count": null,
   "metadata": {},
   "outputs": [],
   "source": [
    "# de plus il faut installer une application en dehors d'anaconda\n",
    "sudo apt-get install graphviz # installation pour linux \n",
    "# pour windows : https://www2.graphviz.org/Packages/stable/windows/10/msbuild/Release/Win32/"
   ]
  },
  {
   "cell_type": "code",
   "execution_count": 1,
   "metadata": {},
   "outputs": [],
   "source": [
    "from graphviz import Digraph # ou Graph pour un graphe non orienté"
   ]
  },
  {
   "cell_type": "code",
   "execution_count": 2,
   "metadata": {},
   "outputs": [],
   "source": [
    "# Création du graphe\n",
    "graphe = Digraph(format='png') # graphe orienté\n",
    "#graphe = Graph(format='png') # graphe non orienté"
   ]
  },
  {
   "cell_type": "code",
   "execution_count": 3,
   "metadata": {},
   "outputs": [
    {
     "name": "stdout",
     "output_type": "stream",
     "text": [
      "digraph {\n",
      "}\n"
     ]
    }
   ],
   "source": [
    "print(graphe)"
   ]
  },
  {
   "cell_type": "code",
   "execution_count": 5,
   "metadata": {},
   "outputs": [],
   "source": [
    "# création des sommets\n",
    "graphe.node('A','A') # nom du sommet, label\n",
    "graphe.node('B','B')\n",
    "graphe.node('C','C')\n",
    "graphe.node('D','D')\n",
    "graphe.node('E','E')\n",
    "graphe.node('F','F')"
   ]
  },
  {
   "cell_type": "code",
   "execution_count": 6,
   "metadata": {},
   "outputs": [
    {
     "name": "stdout",
     "output_type": "stream",
     "text": [
      "digraph {\n",
      "\tA [label=A]\n",
      "\tB [label=B]\n",
      "\tC [label=C]\n",
      "\tD [label=D]\n",
      "\tE [label=E]\n",
      "\tF [label=F]\n",
      "}\n"
     ]
    }
   ],
   "source": [
    "print(graphe)"
   ]
  },
  {
   "cell_type": "code",
   "execution_count": 7,
   "metadata": {},
   "outputs": [],
   "source": [
    "# création des arcs/arêtes\n",
    "graphe.edge('A','B')\n",
    "graphe.edge('A','C')\n",
    "graphe.edge('B','C')\n",
    "graphe.edge('C','E')\n",
    "graphe.edge('C','F')"
   ]
  },
  {
   "cell_type": "code",
   "execution_count": 8,
   "metadata": {},
   "outputs": [
    {
     "name": "stdout",
     "output_type": "stream",
     "text": [
      "digraph {\n",
      "\tA [label=A]\n",
      "\tB [label=B]\n",
      "\tC [label=C]\n",
      "\tD [label=D]\n",
      "\tE [label=E]\n",
      "\tF [label=F]\n",
      "\tA -> B\n",
      "\tA -> C\n",
      "\tB -> C\n",
      "\tC -> E\n",
      "\tC -> F\n",
      "}\n"
     ]
    }
   ],
   "source": [
    "print(graphe)"
   ]
  },
  {
   "cell_type": "code",
   "execution_count": 10,
   "metadata": {},
   "outputs": [
    {
     "data": {
      "text/plain": [
       "'ABC.png'"
      ]
     },
     "execution_count": 10,
     "metadata": {},
     "output_type": "execute_result"
    }
   ],
   "source": [
    "# création du fichier ABC.png\n",
    "graphe.render('ABC')"
   ]
  },
  {
   "cell_type": "markdown",
   "metadata": {},
   "source": [
    "cette cellule est une cellule \"markdown\" contenant le code `<img src=\"ABC.png\">`\n",
    "<img src=\"ABC.png\">"
   ]
  },
  {
   "cell_type": "code",
   "execution_count": null,
   "metadata": {},
   "outputs": [],
   "source": []
  }
 ],
 "metadata": {
  "kernelspec": {
   "display_name": "Python 3",
   "language": "python",
   "name": "python3"
  },
  "language_info": {
   "codemirror_mode": {
    "name": "ipython",
    "version": 3
   },
   "file_extension": ".py",
   "mimetype": "text/x-python",
   "name": "python",
   "nbconvert_exporter": "python",
   "pygments_lexer": "ipython3",
   "version": "3.7.1"
  }
 },
 "nbformat": 4,
 "nbformat_minor": 2
}
