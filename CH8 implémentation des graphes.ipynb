{
 "cells": [
  {
   "cell_type": "markdown",
   "metadata": {},
   "source": [
    "# CH8 Implémentation des graphes. \n",
    "\n",
    "On peut implémenter les graphes.\n",
    "- par liste d'adjacence (on utilise alors un dictionnaire Python)\n",
    "- par matrice d'adjacence (on adjoint à une liste de sommets un tableau à deux dimensions )\n",
    "\n",
    "\n",
    "## I) préambule : affichage des graphes \n",
    "\n",
    "Les deux fonctions `affiche_mat` et `affiche_adj` permettent d'afficher dans un fichier `.png` les graphes créés respectivement par matrice d'adjacence et par liste d'adjacence. \n",
    "Pour visualiser les fichiers ainsi créés, il faut ensuite ajouter une cellule de type Markdown et intégrer une balise html d'affichage d'image ex :  `<img src=\"image.png\">`\n",
    "<br>On n'est pas obligé d'étudier dans le détail ces fonctions qui supposent la connaissance du module graphviz, mais on prêtera attention aux docstrings\n",
    "<br>\n",
    "\n",
    "Installation de graphviz (à ne faire qu'une fois dans un prompt Anaconda ):<br>\n",
    "`set https_proxy=https://10.0.0.1:3128  # cas où il y a un proxy\n",
    " pip install graphviz`\n",
    "\n",
    "Attention, le module graphviz nécessite l'installation du logiciel graphviz :\n",
    "- sur windows : ` https://www2.graphviz.org/Packages/stable/windows/10/msbuild/Release/Win32/`\n",
    "- sur linux : `sudo apt-get install graphviz`\n"
   ]
  },
  {
   "cell_type": "code",
   "execution_count": 4,
   "metadata": {},
   "outputs": [],
   "source": [
    "# Chargement du module graphique\n",
    "from graphviz import Graph, Digraph"
   ]
  },
  {
   "cell_type": "code",
   "execution_count": 14,
   "metadata": {},
   "outputs": [],
   "source": [
    "def affiche_mat(gr,nom,orient):\n",
    "    \"\"\"\n",
    "    entree : gr (dict) un graphe défini par matrice\n",
    "                 ce graphe est un dictionnaire contenant 2 clés\n",
    "                 \"sommets\" a pour valeur la liste des sommets\n",
    "                 \"adjacence\" est la matrice d'adjacence\n",
    "             nom (str) le noim du fichier png créé\n",
    "             orient (bool) le graphe est-il orienté ?\n",
    "    sortie : aucune, mais création d'un fichier nom.png\n",
    "    \"\"\"\n",
    "    if orient :\n",
    "        g = Digraph(format='png')\n",
    "    else:\n",
    "        g = Graph(format='png')\n",
    "    for s in gr[\"sommets\"]: # sommets\n",
    "        g.node(s,s)\n",
    "    n=len(gr[\"sommets\"])\n",
    "    for i in range(n) :\n",
    "        for j in range(n):\n",
    "            if gr[\"adjacence\"][i][j]==1:\n",
    "                if orient or i<=j : # astuce pour éviter les doublons dans les arêtes \n",
    "                    g.edge(gr[\"sommets\"][i],gr[\"sommets\"][j])\n",
    "    g.render(nom)"
   ]
  },
  {
   "cell_type": "code",
   "execution_count": 1,
   "metadata": {},
   "outputs": [],
   "source": [
    "def affiche_adj(gr,nom,orient):\n",
    "    \"\"\"\n",
    "    entree : gr (dict) un graphe défini par liste d'adjacence\n",
    "             nom (str) le noim du fichier png créé\n",
    "             orient (bool) le graphe est-il orienté ?\n",
    "    sortie : aucune, mais création d'un fichier nom.png\n",
    "    \"\"\"\n",
    "    # 1 creation de l'objet \n",
    "    if orient :\n",
    "        g = Digraph(format='png')   # graphe avec des arcs\n",
    "    else :\n",
    "        g = Graph(format='png')   # graph avec des arêtes\n",
    "    for cle in gr.keys(): # sommets\n",
    "        g.node(cle,cle)\n",
    "    for cle,valeur in gr.items(): # arêtes\n",
    "        for s in valeur:\n",
    "            if orient or cle<=s : # astuce pour éviter les doublons dans les arêtes \n",
    "                g.edge(cle,s)\n",
    "    g.render(nom)"
   ]
  },
  {
   "cell_type": "markdown",
   "metadata": {},
   "source": [
    "## II - Le réseau social\n",
    "\n",
    "- A est ami avec B, C et D\n",
    "- B est ami avec A et D\n",
    "- C est ami avec A, E et D\n",
    "- D est ami avec tous les autres abonnés\n",
    "- E est ami avec C, D et F\n",
    "- F est ami avec E et D\n",
    "\n",
    "### a) par listes d'adjacence :"
   ]
  },
  {
   "cell_type": "code",
   "execution_count": 2,
   "metadata": {},
   "outputs": [],
   "source": [
    "# implémentation par liste d'adjacence\n",
    "reseau1 = {'A':['B','C','D'],\n",
    "           'B':['A','D'],\n",
    "           'C':['A','E','D'],\n",
    "           'D':['A','B','C','E','F'],\n",
    "           'E':['C','D','F'],\n",
    "           'F':['E','D'] }"
   ]
  },
  {
   "cell_type": "code",
   "execution_count": 18,
   "metadata": {},
   "outputs": [],
   "source": [
    "affiche_adj(reseau1,\"cas1\",False)"
   ]
  },
  {
   "cell_type": "markdown",
   "metadata": {},
   "source": [
    "<img src=\"cas1.png\">"
   ]
  },
  {
   "cell_type": "code",
   "execution_count": 5,
   "metadata": {},
   "outputs": [
    {
     "name": "stdout",
     "output_type": "stream",
     "text": [
      "['C', 'D', 'F']\n"
     ]
    }
   ],
   "source": [
    "# Quels sont les amis de E ?\n",
    "print(reseau1['E'])"
   ]
  },
  {
   "cell_type": "code",
   "execution_count": 9,
   "metadata": {},
   "outputs": [
    {
     "name": "stdout",
     "output_type": "stream",
     "text": [
      "['A', 'B', 'C', 'E', 'F']\n"
     ]
    }
   ],
   "source": [
    "# De qui D est-il ami ? (ce code doit aussi fonctionner si les relations ne sont pas symétriques !)\n",
    "liste=[]\n",
    "for cle,valeur in reseau1.items():\n",
    "    if 'D' in valeur:\n",
    "        liste.append(cle)\n",
    "print(liste)"
   ]
  },
  {
   "cell_type": "markdown",
   "metadata": {},
   "source": [
    "### b) par matrice d'adjacence"
   ]
  },
  {
   "cell_type": "code",
   "execution_count": 11,
   "metadata": {},
   "outputs": [],
   "source": [
    "sommets=['A','B','C','D','E','F']\n",
    "adjacence= [[0,1,1,1,0,0],\n",
    "            [1,0,0,1,0,0],\n",
    "            [1,0,0,1,1,0],\n",
    "            [1,1,1,0,1,1],\n",
    "            [0,0,1,1,0,1],\n",
    "            [0,0,0,1,1,0]]\n",
    "reseau2={\"sommets\":sommets,\"adjacence\":adjacence}"
   ]
  },
  {
   "cell_type": "code",
   "execution_count": 21,
   "metadata": {},
   "outputs": [],
   "source": [
    "affiche_mat(reseau2,\"cas2bis\",False)"
   ]
  },
  {
   "cell_type": "markdown",
   "metadata": {},
   "source": [
    "<img src=\"cas2bis.png\">"
   ]
  },
  {
   "cell_type": "code",
   "execution_count": 26,
   "metadata": {},
   "outputs": [
    {
     "name": "stdout",
     "output_type": "stream",
     "text": [
      "['C', 'D', 'F']\n"
     ]
    }
   ],
   "source": [
    "# Quels sont les amis de E ?\n",
    "liste=[]\n",
    "for i in range(len(reseau2[\"sommets\"])):\n",
    "    if reseau2[\"adjacence\"][4][i] == 1: # ligne 4 (E) colonne i\n",
    "            liste.append(reseau2[\"sommets\"][i])\n",
    "print(liste)"
   ]
  },
  {
   "cell_type": "code",
   "execution_count": 27,
   "metadata": {},
   "outputs": [
    {
     "name": "stdout",
     "output_type": "stream",
     "text": [
      "['C', 'D', 'F']\n"
     ]
    }
   ],
   "source": [
    "# réciproquement de qui E est-il ami (on suppose que les relations ne sont pas forcément symétriques)\n",
    "liste=[]\n",
    "for i in range(len(reseau2[\"sommets\"])):\n",
    "    if reseau2[\"adjacence\"][i][4] == 1:  # ligne i colonne 4 (E)\n",
    "            liste.append(reseau2[\"sommets\"][i])\n",
    "print(liste)"
   ]
  },
  {
   "cell_type": "markdown",
   "metadata": {},
   "source": [
    "### c : Passage d'une représentation à l'autre (difficile)"
   ]
  },
  {
   "cell_type": "code",
   "execution_count": 22,
   "metadata": {},
   "outputs": [],
   "source": [
    "def delisteamatrice(g):\n",
    "    \"\"\" entree : (dict) graphe définit par listes d'adjacences\n",
    "        sortie : (dict) un graphe défini par matrice\n",
    "                 ce graphe est un dictionnaire contenant 2 clés\n",
    "                 \"sommets\" a pour valeur la liste des sommets\n",
    "                 \"adjacence\" est la matrice d'adjacence\n",
    "      \"\"\"\n",
    "    s=list(g.keys()) #liste des sommets\n",
    "    n=len(s)  # ordre du graphe\n",
    "    a=[[0]*n for i in range(n)]  #tableau a deux dimensions nxn\n",
    "    for l in range(n): # s[l] sommet de depart\n",
    "        for c in range(n): #s[c] sommet d'arrivee\n",
    "            if s[c] in g[s[l]]:  # s[c] est-il dans les successeurs de s[l]\n",
    "                a[l][c]=1\n",
    "    return {\"sommets\":s,\"adjacence\":a}"
   ]
  },
  {
   "cell_type": "code",
   "execution_count": 24,
   "metadata": {},
   "outputs": [],
   "source": [
    "g={'A':['B','C'],'B':['C'],'C':['A']}"
   ]
  },
  {
   "cell_type": "code",
   "execution_count": 25,
   "metadata": {},
   "outputs": [
    {
     "data": {
      "text/plain": [
       "{'sommets': ['A', 'B', 'C'], 'adjacence': [[0, 1, 1], [0, 0, 1], [1, 0, 0]]}"
      ]
     },
     "execution_count": 25,
     "metadata": {},
     "output_type": "execute_result"
    }
   ],
   "source": [
    "delisteamatrice(g)"
   ]
  },
  {
   "cell_type": "code",
   "execution_count": 38,
   "metadata": {},
   "outputs": [],
   "source": [
    "def dematricealiste(g):\n",
    "    \"\"\" entree : g (dict) un graphe défini par matrice\n",
    "                 ce graphe est un dictionnaire contenant 2 clés\n",
    "                 \"sommets\" a pour valeur la liste des sommets\n",
    "                 \"adjacence\" est la matrice d'adjacence\n",
    "    sortie : (dict) graphe définit par listes d'adjacences\"\"\"\n",
    "    mondict={} # initialisation\n",
    "    n = len(g[\"sommets\"]) # ordre du graphe\n",
    "    for l in range(n): # on parcourt les lignes\n",
    "        successeurs=[] # initialisation de la liste des successeurs\n",
    "        for c in range(n): # on parcourt les colonnes\n",
    "            if g[\"adjacence\"][c][l]==1:\n",
    "                successeurs.append(g[\"sommets\"][c]) # ajout d'un successeur\n",
    "            mondict[g[\"sommets\"][l]]=successeurs\n",
    "    return mondict"
   ]
  },
  {
   "cell_type": "code",
   "execution_count": 39,
   "metadata": {},
   "outputs": [],
   "source": [
    "g={'sommets': ['A', 'B', 'C'], 'adjacence': [[0, 1, 1], [0, 0, 1], [1, 0, 0]]}"
   ]
  },
  {
   "cell_type": "code",
   "execution_count": 40,
   "metadata": {},
   "outputs": [
    {
     "data": {
      "text/plain": [
       "{'A': ['C'], 'B': ['A'], 'C': ['A', 'B']}"
      ]
     },
     "execution_count": 40,
     "metadata": {},
     "output_type": "execute_result"
    }
   ],
   "source": [
    "dematricealiste(g)"
   ]
  },
  {
   "cell_type": "code",
   "execution_count": null,
   "metadata": {},
   "outputs": [],
   "source": [
    "\n",
    "\n",
    "\n",
    "\n",
    "\n",
    "\n",
    "\n",
    "\n",
    "\n",
    "\n",
    "\n",
    "\n",
    "\n",
    "\n",
    "\n",
    "\n",
    "\n",
    "\n",
    "\n",
    "\n",
    "\n",
    "\n"
   ]
  }
 ],
 "metadata": {
  "kernelspec": {
   "display_name": "Python 3",
   "language": "python",
   "name": "python3"
  },
  "language_info": {
   "codemirror_mode": {
    "name": "ipython",
    "version": 3
   },
   "file_extension": ".py",
   "mimetype": "text/x-python",
   "name": "python",
   "nbconvert_exporter": "python",
   "pygments_lexer": "ipython3",
   "version": "3.7.3"
  }
 },
 "nbformat": 4,
 "nbformat_minor": 2
}
