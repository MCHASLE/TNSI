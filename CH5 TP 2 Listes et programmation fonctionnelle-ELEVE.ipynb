{
 "cells": [
  {
   "cell_type": "markdown",
   "metadata": {},
   "source": [
    "# CH5 TP2 : Les listes et la programmation fonctionnelle - CORRECTION\n",
    "\n",
    "\n",
    "\n",
    "La définition d'une liste est profondément récursive. C'est une tête et une queue (la tête est un élément de la liste, la queue est une liste). Evidemment, la terminaison de cette définition oblige à conceptualiser la notion de liste vide.\n",
    "\n",
    "![Liste](https://zestedesavoir.com/media/galleries/505/86462a7a-aa95-43d0-b0fa-c65d2063748b.png)\n",
    "\n",
    "exemple : `mercure -> venus -> terre -> mars -> Jupiter -> Saturne -> Uranus -> vide`\n",
    "\n",
    "Historiquement on utilisait au lieu de `tête` / `queue`  les appellations `car` et `cdr`\n",
    " (contents of the Address Register / contents of the Decrement Register)\n",
    "provenant de  l'implémentation de Lisp sur IBM 704\n",
    "\n",
    "\n",
    "Rappel :  En programmation fonctionnelle, on refuse les effets de bord, c'est à dire qu'on ne modifie pas les variables mais on préfère générer une nouvelle variable en sortie de fonction.\n",
    "Ainsi, on privilégie les variables non mutables (tuples) au détriment des variables mutuables (list). On ne sera pas étonné donc de voir que l'implémentation des listes ci-dessous utilise les tuples.\n",
    "    "
   ]
  },
  {
   "cell_type": "code",
   "execution_count": 44,
   "metadata": {},
   "outputs": [],
   "source": [
    "# Les Fonctions utiles\n",
    "\n",
    "def vide():   # cette fonction est indispensable pour initialiser une liste\n",
    "    '''entree : /\n",
    "       sortie : liste vide\n",
    "    '''\n",
    "    return None\n",
    "\n",
    "def estVide(l):\n",
    "    '''entree : liste\n",
    "       sortie : booleen : détermine si la liste est vide\n",
    "    '''\n",
    "    return l is None\n",
    "\n",
    "def cons(tete,queue):\n",
    "    '''entree : tete : element qconque, queue : liste\n",
    "       sortie : liste construite à partir de la tete et de la queue\n",
    "    '''\n",
    "    if estVide(queue):\n",
    "        return tete, # la virgule fabrique un tuple à un élément\n",
    "    else :\n",
    "        return (tete,) +queue\n",
    "    \n",
    "def tete(l):\n",
    "    '''entree : liste\n",
    "       sortie : element ou None (tete de la liste)\n",
    "    '''\n",
    "    if estVide(l):\n",
    "        return None\n",
    "    else :\n",
    "        return l[0]\n",
    "def queue(l):\n",
    "    '''entree : liste\n",
    "       sortie : liste ou None (queue de la liste) \n",
    "    '''\n",
    "    if estVide(l) or len(l)==1:\n",
    "        return None\n",
    "    else:\n",
    "        return l[1:]"
   ]
  },
  {
   "cell_type": "code",
   "execution_count": 46,
   "metadata": {},
   "outputs": [
    {
     "name": "stdout",
     "output_type": "stream",
     "text": [
      "(3, 2, 1)\n"
     ]
    }
   ],
   "source": [
    "# exemple d'utilisation de cons et vide()\n",
    "l=cons(3,cons(2,cons(1,vide())))\n",
    "print(l)"
   ]
  },
  {
   "cell_type": "code",
   "execution_count": 49,
   "metadata": {},
   "outputs": [
    {
     "name": "stdout",
     "output_type": "stream",
     "text": [
      "tete:3,queue:(2, 1)\n"
     ]
    }
   ],
   "source": [
    "# exemple d'utilisation de tete() et queue() :\n",
    "print(f\"tete:{tete(l)}, queue:{queue(l)}\")"
   ]
  },
  {
   "cell_type": "markdown",
   "metadata": {},
   "source": [
    "## Exercice 1 : créer la liste des jours de la semaine "
   ]
  },
  {
   "cell_type": "code",
   "execution_count": 33,
   "metadata": {},
   "outputs": [],
   "source": [
    "#exercice 1\n"
   ]
  },
  {
   "cell_type": "code",
   "execution_count": 34,
   "metadata": {},
   "outputs": [
    {
     "name": "stdout",
     "output_type": "stream",
     "text": [
      "('lundi', 'mardi', 'mercerdi', 'jeudi', 'vendredi', 'samedi', 'dimanche')\n"
     ]
    }
   ],
   "source": [
    "print(semaine)"
   ]
  },
  {
   "cell_type": "markdown",
   "metadata": {},
   "source": [
    "# POUR CHAQUE EXERCICE, ON DEMANDE UNE VERSION RECURSIVE ET UNE VERSION IMPERATIVE :\n",
    "\n",
    "## Exercice 2 : Définir la fonction longueur \n",
    "\n",
    "**longueur : liste -> entier (longueur de la liste)**\n"
   ]
  },
  {
   "cell_type": "code",
   "execution_count": 39,
   "metadata": {},
   "outputs": [],
   "source": [
    " # version récursive\n"
   ]
  },
  {
   "cell_type": "code",
   "execution_count": 54,
   "metadata": {},
   "outputs": [],
   "source": [
    " # version itérative\n"
   ]
  },
  {
   "cell_type": "code",
   "execution_count": 55,
   "metadata": {},
   "outputs": [
    {
     "name": "stdout",
     "output_type": "stream",
     "text": [
      "7\n"
     ]
    }
   ],
   "source": [
    "print(longueur(semaine))"
   ]
  },
  {
   "cell_type": "markdown",
   "metadata": {},
   "source": [
    "## Exercice 3 : Définir la fonction recherche\n",
    "\n",
    "**Recherche : element, liste -> booleen(dit si element est dans liste)**\n"
   ]
  },
  {
   "cell_type": "code",
   "execution_count": 41,
   "metadata": {},
   "outputs": [],
   "source": [
    "#fonction recherche (version récursive) :\n"
   ]
  },
  {
   "cell_type": "code",
   "execution_count": null,
   "metadata": {},
   "outputs": [],
   "source": [
    "#fonction recherche (version itérative) :\n"
   ]
  },
  {
   "cell_type": "code",
   "execution_count": 51,
   "metadata": {},
   "outputs": [
    {
     "data": {
      "text/plain": [
       "True"
      ]
     },
     "execution_count": 51,
     "metadata": {},
     "output_type": "execute_result"
    }
   ],
   "source": [
    "recherche('vendredi',semaine)"
   ]
  },
  {
   "cell_type": "markdown",
   "metadata": {},
   "source": [
    "## Exercice 4 : Définie la fonction concat\n",
    "\n",
    "**concat: liste x liste -> liste (la concaténation des deux listes)**"
   ]
  },
  {
   "cell_type": "code",
   "execution_count": 56,
   "metadata": {},
   "outputs": [],
   "source": [
    "# fonction concat l1,l2 (version récursive)\n"
   ]
  },
  {
   "cell_type": "code",
   "execution_count": 68,
   "metadata": {},
   "outputs": [],
   "source": [
    "# fonction concat l1,l2 (version itérative) DIFFICILE\n"
   ]
  },
  {
   "cell_type": "code",
   "execution_count": 74,
   "metadata": {},
   "outputs": [
    {
     "name": "stdout",
     "output_type": "stream",
     "text": [
      "(1, 2, 3)+(4, 5, 6)=(1, 2, 3, 4, 5, 6)\n"
     ]
    }
   ],
   "source": [
    "#test\n",
    "a=(cons(1,cons(2,cons(3,vide()))))\n",
    "b=(cons(4,cons(5,cons(6,vide()))))\n",
    "print(f\"{a}+{b}={concat(a,b)}\")"
   ]
  }
 ],
 "metadata": {
  "kernelspec": {
   "display_name": "Python 3",
   "language": "python",
   "name": "python3"
  },
  "language_info": {
   "codemirror_mode": {
    "name": "ipython",
    "version": 3
   },
   "file_extension": ".py",
   "mimetype": "text/x-python",
   "name": "python",
   "nbconvert_exporter": "python",
   "pygments_lexer": "ipython3",
   "version": "3.7.1"
  }
 },
 "nbformat": 4,
 "nbformat_minor": 2
}
