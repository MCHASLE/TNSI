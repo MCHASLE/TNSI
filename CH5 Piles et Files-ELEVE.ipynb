{
 "cells": [
  {
   "cell_type": "markdown",
   "metadata": {},
   "source": [
    "# CH5  Piles et Files \n",
    "\n",
    "## 1 Implémenter la classe Pile et la classe File"
   ]
  },
  {
   "cell_type": "code",
   "execution_count": 4,
   "metadata": {},
   "outputs": [],
   "source": [
    "class Pile:\n",
    "    '''\n",
    "    attribut : la liste sous jacente. Cet attribut est normalement inaccessible\n",
    "    méthodes : push, pop, empty, size\n",
    "    '''\n",
    "  "
   ]
  },
  {
   "cell_type": "code",
   "execution_count": null,
   "metadata": {},
   "outputs": [],
   "source": [
    "class Queue:\n",
    "    '''\n",
    "    attribut : la liste sous jacente. Cet attribut est normalement inaccessible\n",
    "    méthodes : enqueue, dequeue, empty, size\n",
    "   '''"
   ]
  },
  {
   "cell_type": "markdown",
   "metadata": {},
   "source": [
    "## 2 Tester le parenthésage.\n",
    "\n",
    "Un parenthésage correct c'est lorsque les parenthèses fermantes correspondent au parenthèses ouvrantes."
   ]
  },
  {
   "cell_type": "code",
   "execution_count": null,
   "metadata": {},
   "outputs": [],
   "source": [
    "assert teste_parentheses_simple(\"1+2+(5+3)+((2+3)+4)\")==True\n",
    "assert teste_parentheses_simple(\"1+2+(5+3)+((2+3+(5)+4)\")==False"
   ]
  },
  {
   "cell_type": "code",
   "execution_count": 9,
   "metadata": {},
   "outputs": [],
   "source": [
    "# implémenter la fonction parenthèses simples\n",
    "def teste_parentheses_simple(texte):\n",
    "    '''\n",
    "    entrée : texte parenthèsé\n",
    "    sortie : booleen qui dit si le texte est correctement parenthèsé\n",
    "    '''\n",
    "    "
   ]
  },
  {
   "cell_type": "markdown",
   "metadata": {},
   "source": [
    "On ajoute maintenant les crochets. "
   ]
  },
  {
   "cell_type": "code",
   "execution_count": null,
   "metadata": {},
   "outputs": [],
   "source": [
    "assert teste_parentheses(\"([(2+3)+(3+5)]+(4+5))\")==True\n",
    "assert teste_parentheses(\"((3+4)+([2+7)]+(5+6))\")==False"
   ]
  },
  {
   "cell_type": "code",
   "execution_count": 15,
   "metadata": {},
   "outputs": [],
   "source": [
    "def teste_parentheses(texte):\n",
    "    '''\n",
    "    entrée : texte parenthèsé avec parenthèses et crochets\n",
    "    sortie : boolene qui dit si le texte est correctement parenthèsé\n",
    "    '''\n",
    "    "
   ]
  },
  {
   "cell_type": "markdown",
   "metadata": {},
   "source": [
    "## 3 Inverser une pile.\n",
    "Soit p une pile, réaliser la procédure inverse qui inverse la pile . Une procédure est une fonction sans return.\n",
    "\n",
    "Astuce : on dépile la pile dans une file et on rempile les éléments de la file\n",
    "\n"
   ]
  },
  {
   "cell_type": "code",
   "execution_count": null,
   "metadata": {},
   "outputs": [],
   "source": []
  }
 ],
 "metadata": {
  "kernelspec": {
   "display_name": "Python 3",
   "language": "python",
   "name": "python3"
  },
  "language_info": {
   "codemirror_mode": {
    "name": "ipython",
    "version": 3
   },
   "file_extension": ".py",
   "mimetype": "text/x-python",
   "name": "python",
   "nbconvert_exporter": "python",
   "pygments_lexer": "ipython3",
   "version": "3.7.1"
  }
 },
 "nbformat": 4,
 "nbformat_minor": 2
}
