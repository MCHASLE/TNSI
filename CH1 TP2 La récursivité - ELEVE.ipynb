{
 "cells": [
  {
   "cell_type": "markdown",
   "metadata": {},
   "source": [
    "# CH1 - TP2 La récursivité - ELEVE - (BAC pour tous les exercices)\n",
    "\n",
    "Dans ce TP :\n",
    "- On mettra en évidence par les commentaires les instructions de terminaison de la boucle et les appels récursifs\n",
    "- On proposera un jeu de tests pertinent\n",
    "- et bien évidemment : boucles for et while interdites !\n",
    "- - -"
   ]
  },
  {
   "cell_type": "markdown",
   "metadata": {},
   "source": [
    " ## ex 1 : la somme des n premiers entiers :\n",
    " \n",
    " Remarque préliminaire :\n",
    " \n",
    " ``S(n)= 1 + 2 + 3 + ... + n``   \n",
    " \n",
    " on aussi donner une définition récursive de cette somme.\n",
    " ``S(n)=n+S(n-1)`` sans oublier la terminaison ``S(1) = 1``\n",
    " \n",
    " Réaliser la fonction somme de façon récursive :\n",
    " \n",
    " ex : **somme(3) -> 6**\n"
   ]
  },
  {
   "cell_type": "code",
   "execution_count": 19,
   "metadata": {},
   "outputs": [],
   "source": [
    "# tapez ici votre fonction\n"
   ]
  },
  {
   "cell_type": "code",
   "execution_count": 20,
   "metadata": {},
   "outputs": [],
   "source": [
    "#jeu de tests\n",
    "assert somme(1)==1\n",
    "assert somme(100)==5050\n",
    "assert somme(3)==6"
   ]
  },
  {
   "cell_type": "markdown",
   "metadata": {},
   "source": [
    "## ex 2 : la suite de fibonacci\n",
    "\n",
    "Rappel : la célèbre suite de fibonacci : 1 1 2 3 5 8 13 21 34 55 ...\n",
    "\n",
    "Réaliser la fonction fibo(n) qui renvoie le terme de rang n de la suite de fibonacci.\n",
    "\n",
    "ex : **fibo(5) -> 8**"
   ]
  },
  {
   "cell_type": "code",
   "execution_count": 5,
   "metadata": {},
   "outputs": [],
   "source": [
    "# tapez ici votre fonction\n"
   ]
  },
  {
   "cell_type": "code",
   "execution_count": 6,
   "metadata": {},
   "outputs": [],
   "source": [
    "assert fibo(0)==1\n",
    "assert fibo(1)==1\n",
    "assert fibo(8)==34"
   ]
  },
  {
   "cell_type": "code",
   "execution_count": 8,
   "metadata": {},
   "outputs": [],
   "source": []
  },
  {
   "cell_type": "markdown",
   "metadata": {},
   "source": [
    "## ex 3 : Calcul du PGCD\n",
    "\n",
    "Le plus grand diviseur commun (PGCD) de 24 et de 32 est 8, c'est une notion fondamentale en mathématiques, par exemple pour réduire au même dénominateur etc ...\n",
    "\n",
    "Comment calculer le PGCD de 24 et de 32 ?\n",
    "\n",
    "``32/24 = 1 il reste 8\n",
    "24/8 = 3 il reste 0 donc 8  est le PGCG de 32 et 24``\n",
    "\n",
    "La définition récursive du PGCD est \n",
    "\n",
    "``pgcd(a,b) = pgcd(b,r) où r est le reste de la divisision de a par b``\n",
    "avec la terminaison ``pgcd(a,b)=b si le reste est nul``\n",
    "\n",
    "Réaliser la fonction PGCD de façon récursive :\n",
    "\n",
    "ex : **PGCD(32,24) -> 8**\n"
   ]
  },
  {
   "cell_type": "code",
   "execution_count": 13,
   "metadata": {},
   "outputs": [],
   "source": [
    "# tapez ici votre fonction\n"
   ]
  },
  {
   "cell_type": "code",
   "execution_count": 15,
   "metadata": {},
   "outputs": [],
   "source": [
    "#jeu de tests\n",
    "assert PGCD(70,50)==10\n",
    "assert PGCD(23,17)==1\n",
    "assert PGCD(34,1)==1\n",
    "assert PGCD(48,6)==6"
   ]
  },
  {
   "cell_type": "code",
   "execution_count": null,
   "metadata": {},
   "outputs": [],
   "source": []
  }
 ],
 "metadata": {
  "kernelspec": {
   "display_name": "Python 3",
   "language": "python",
   "name": "python3"
  },
  "language_info": {
   "codemirror_mode": {
    "name": "ipython",
    "version": 3
   },
   "file_extension": ".py",
   "mimetype": "text/x-python",
   "name": "python",
   "nbconvert_exporter": "python",
   "pygments_lexer": "ipython3",
   "version": "3.7.3"
  }
 },
 "nbformat": 4,
 "nbformat_minor": 2
}
