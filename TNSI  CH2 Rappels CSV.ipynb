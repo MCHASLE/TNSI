{
 "cells": [
  {
   "cell_type": "markdown",
   "metadata": {},
   "source": [
    "## Terminale NSI : TP de révision : les dictionnaires et les fichiers .csv\n",
    "\n",
    "## Rappel : \n",
    "\n",
    "les fichiers csv (comma separated value) sont des fichiers de données séparées par des virgules.\n",
    "La première ligne contient les descripteurs de ces données.\n",
    "\n",
    "Nous nous intéressons ici aux villes de France.\n",
    "\n",
    "Dans Python, nous pouvons importer ces données. Chaque enregistrement, correspondant à une commune de France , ayant des descripteurs est codé sous la forme d'un dictionnaire. L'ensemble des villes sont ensuite stockées dans un tableau (list en Python)\n",
    "\n",
    "Voici deux fonctions réalisant ce travail, soit à partir d'un fichier en local, soit un fichier téléchargé. "
   ]
  },
  {
   "cell_type": "code",
   "execution_count": null,
   "metadata": {},
   "outputs": [],
   "source": [
    "def lire_fichier_csv(path):\n",
    "    '''str -> list\n",
    "       retourne un tableau de dictionnaires partageant les mêmes descripteurs\n",
    "       issus du fichier csv dont le chemin est donné par path\n",
    "       le fichier csv doit contenir une première ligne avec les descripteurs\n",
    "    '''\n",
    "    csv_file = open(path, \"r\") \n",
    "    liste = [] # creation de la liste  \n",
    "    for index,ligne in enumerate(csv_file):\n",
    "        if index == 0:\n",
    "            # récuperation de la liste des descripteurs sur la premiere ligne\n",
    "            descripteurs = ligne.strip().split(',')\n",
    "        else:\n",
    "            # nouvel enregistrement\n",
    "            enregistrement={}\n",
    "            donnees = ligne.strip().split(',')     \n",
    "            for descripteur,donnee in zip(descripteurs,donnees):\n",
    "                enregistrement[descripteur]=donnee\n",
    "            # l'enregistrement est ajouté à la liste\n",
    "            liste.append(enregistrement)    \n",
    "    csv_file.close()\n",
    "    return liste"
   ]
  },
  {
   "cell_type": "code",
   "execution_count": null,
   "metadata": {},
   "outputs": [],
   "source": [
    "def telecharger_csv(url):\n",
    "    '''str -> list\n",
    "       retourne un tableau de dictionnaires partageant les mêmes descripteurs\n",
    "       issus du fichier csv dont l'url est donné par url\n",
    "       le fichier csv doit contenir une première ligne avec les descripteurs\n",
    "    '''\n",
    "    import requests\n",
    "    csvfile = requests.get(url)\n",
    "    csvfile=csvfile.text #les données sont binaires, elles sont converties en str\n",
    "    lignes = csvfile.split('\\n') #création d'une liste de lignes\n",
    "    descripteurs=lignes[0].split(',') #liste des descripteurs\n",
    "    liste=[]\n",
    "    for ligne in lignes[1:-1]: #premiere et derniere ligne enlevees\n",
    "        donnees=str(ligne).strip().split(',')\n",
    "        enregistrement={} \n",
    "        for descripteur,donnee in zip(descripteurs,donnees): #parcours simultané de 2 listes\n",
    "            enregistrement[descripteur]=donnee #données dans le dictionnaire\n",
    "        lsite.append(enregistrement) #on ajoute notre enregistrement à la liste\n",
    "    return liste\n"
   ]
  },
  {
   "cell_type": "markdown",
   "metadata": {},
   "source": [
    "## Exercice : Les communes  de France : \n",
    "( à partir du fichier ``villes-virgules.csv`` )\n",
    "\n",
    "### 0. Lister les descripteurs de ce tableau "
   ]
  },
  {
   "cell_type": "code",
   "execution_count": null,
   "metadata": {},
   "outputs": [],
   "source": []
  },
  {
   "cell_type": "markdown",
   "metadata": {},
   "source": [
    "### 1. Combien de communes sont recensées dans ce tableau ?"
   ]
  },
  {
   "cell_type": "code",
   "execution_count": null,
   "metadata": {},
   "outputs": [],
   "source": []
  },
  {
   "cell_type": "markdown",
   "metadata": {},
   "source": [
    "### 2. Quelle est la commune la plus haute de France ?"
   ]
  },
  {
   "cell_type": "code",
   "execution_count": null,
   "metadata": {},
   "outputs": [],
   "source": []
  },
  {
   "cell_type": "markdown",
   "metadata": {},
   "source": [
    "### 3. Si on considère qu'un village fait moins de 2000 habitants. Combien y a-t-il de villages en France ?"
   ]
  },
  {
   "cell_type": "code",
   "execution_count": null,
   "metadata": {},
   "outputs": [],
   "source": []
  },
  {
   "cell_type": "markdown",
   "metadata": {},
   "source": [
    "### 4. Quelle est l'altitude moyenne des communes Françaises ?"
   ]
  },
  {
   "cell_type": "code",
   "execution_count": null,
   "metadata": {},
   "outputs": [],
   "source": []
  },
  {
   "cell_type": "markdown",
   "metadata": {},
   "source": [
    "### 5. Quelle est l'altitude moyenne des villages de France ?"
   ]
  },
  {
   "cell_type": "code",
   "execution_count": null,
   "metadata": {},
   "outputs": [],
   "source": []
  }
 ],
 "metadata": {
  "kernelspec": {
   "display_name": "Python 3",
   "language": "python",
   "name": "python3"
  },
  "language_info": {
   "codemirror_mode": {
    "name": "ipython",
    "version": 3
   },
   "file_extension": ".py",
   "mimetype": "text/x-python",
   "name": "python",
   "nbconvert_exporter": "python",
   "pygments_lexer": "ipython3",
   "version": "3.7.3"
  }
 },
 "nbformat": 4,
 "nbformat_minor": 2
}
