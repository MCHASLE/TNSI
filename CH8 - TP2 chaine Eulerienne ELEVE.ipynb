{
 "cells": [
  {
   "cell_type": "markdown",
   "metadata": {},
   "source": [
    "# CH8 - TP3 Recherche de chaîne  eulérienne"
   ]
  },
  {
   "cell_type": "markdown",
   "metadata": {},
   "source": [
    "## Objectif : existe-t-il une chaine Eulérienne (un chemin passant une seule fois par toutes les arêtes) ?\n",
    "\n",
    "<table><tr><td><img src=\"https://www.maths-cours.fr/wp-content/uploads/latex/psimg/ps-cours_graphes-6aa6cc29.svg\"> Graphe 1 </td><td><img src=\"http://www.jybaudot.fr/Optimisations/Graphes/amnord.png\"</td>Graphe2</tr></table>\n",
    "\n",
    "## ex1 Représentez ces deux graphes sous forme de liste d'adjacence. "
   ]
  },
  {
   "cell_type": "code",
   "execution_count": null,
   "metadata": {},
   "outputs": [],
   "source": []
  },
  {
   "cell_type": "markdown",
   "metadata": {},
   "source": [
    "## ex2 : Le tableau des degrés (facile)\n",
    "\n",
    "Réaliser la fonction `degres(g): graphe -> tableau` qui retourne le tableau des degrés d'un graphe."
   ]
  },
  {
   "cell_type": "code",
   "execution_count": null,
   "metadata": {},
   "outputs": [],
   "source": []
  },
  {
   "cell_type": "code",
   "execution_count": null,
   "metadata": {},
   "outputs": [],
   "source": []
  },
  {
   "cell_type": "markdown",
   "metadata": {},
   "source": [
    "## ex 3 : Eulérienne ? (facile)\n",
    "\n",
    "On rappelle qu'un graphe connexe admet une chaîne Eulérienne lorsque le nombre de sommets de degrés impairs est au plus 2.\n",
    "\n",
    "Déterminer la fonction `euler(g): graphe -> bool` qui dit si un graphe (supposé connexe) admet une chaîne Eulérienne."
   ]
  },
  {
   "cell_type": "code",
   "execution_count": null,
   "metadata": {},
   "outputs": [],
   "source": []
  },
  {
   "cell_type": "code",
   "execution_count": null,
   "metadata": {},
   "outputs": [],
   "source": []
  },
  {
   "cell_type": "markdown",
   "metadata": {},
   "source": [
    "## ex 4 : Une chaîne Eulérienne : (plus difficile)\n",
    "\n",
    "Idée : On part d'un sommet de degré impair (si il y en a), puis on parcours le graphe en supprimant derrière soi l'arête que l'on a parcouru.\n",
    "\n",
    "Implémenter la fonction `chaine_eulerienne(g): graphe -> list` qui génère, si elle existe, une chaîne Eulérienne."
   ]
  },
  {
   "cell_type": "code",
   "execution_count": null,
   "metadata": {},
   "outputs": [],
   "source": []
  },
  {
   "cell_type": "code",
   "execution_count": null,
   "metadata": {},
   "outputs": [],
   "source": []
  },
  {
   "cell_type": "code",
   "execution_count": null,
   "metadata": {},
   "outputs": [],
   "source": []
  }
 ],
 "metadata": {
  "kernelspec": {
   "display_name": "Python 3",
   "language": "python",
   "name": "python3"
  },
  "language_info": {
   "codemirror_mode": {
    "name": "ipython",
    "version": 3
   },
   "file_extension": ".py",
   "mimetype": "text/x-python",
   "name": "python",
   "nbconvert_exporter": "python",
   "pygments_lexer": "ipython3",
   "version": "3.7.1"
  }
 },
 "nbformat": 4,
 "nbformat_minor": 2
}
