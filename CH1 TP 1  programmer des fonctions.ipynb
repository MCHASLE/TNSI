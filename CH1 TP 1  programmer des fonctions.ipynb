{
 "cells": [
  {
   "cell_type": "markdown",
   "metadata": {},
   "source": [
    "# CH1 TP1 Programmer des fonctions\n",
    "\n",
    "- - -\n",
    "\n",
    "Dans ce TP on tentera \n",
    "\n",
    "- de respecter les exigences de la programmation fonctionnelle\n",
    "- de documenter correctement les fonctions avec des docstrings (préconditions et post conditions)\n",
    "- de proposer un jeu de test pertinent par fonction, soit avec doctest , soit avec assert"
   ]
  },
  {
   "cell_type": "markdown",
   "metadata": {},
   "source": [
    "## ex 1 : La fonction factorielle\n",
    "\n",
    "rappel : 5 ! = 5x4x3x2x1 = 120"
   ]
  },
  {
   "cell_type": "code",
   "execution_count": null,
   "metadata": {},
   "outputs": [],
   "source": []
  },
  {
   "cell_type": "markdown",
   "metadata": {},
   "source": [
    "## ex 2 : Nombre d'occurrences. (BAC)\n",
    "\n",
    "Dans la phrase \"J'aime les champignons\", le \"e\" apparaît 2 fois.\n",
    "Réaliser la fonction occurrences qui en arguments prend un texte et un caractère et retourne le nombre d'occurrences de ce caractère dans le texte :\n",
    "\n",
    "**occurrences(\"J'aime les champignons\",\"e\") -> 2**"
   ]
  },
  {
   "cell_type": "code",
   "execution_count": null,
   "metadata": {},
   "outputs": [],
   "source": []
  },
  {
   "cell_type": "markdown",
   "metadata": {},
   "source": [
    "## ex 3  : Max et tableau (BAC)\n",
    "\n",
    "Réaliser une fonction max qui prend en argument un tableau de nombres et retourne son maximum.\n",
    "\n",
    "**max([1,3,5,6,9,2]) -> 9**\n"
   ]
  },
  {
   "cell_type": "code",
   "execution_count": null,
   "metadata": {},
   "outputs": [],
   "source": []
  },
  {
   "cell_type": "markdown",
   "metadata": {},
   "source": [
    "## ex 4 : Calcul de la moyenne (BAC)\n",
    "\n",
    "Réaliser une fonction moyenne qui prend en argument un tableau de nombres et retourne la moyenne\n",
    "\n",
    "**max([1,2]) -> 1.5**"
   ]
  },
  {
   "cell_type": "code",
   "execution_count": null,
   "metadata": {},
   "outputs": [],
   "source": []
  },
  {
   "cell_type": "markdown",
   "metadata": {},
   "source": [
    "## ex 5 : fonction recherche (BAC)\n",
    "\n",
    "Réaliser une fonction recherche qui donne l'index de  la première occurrence d'un élément e dans un tableau, et -1 si l'élément n'est pas trouvé\n",
    "\n",
    "**recherche(5,[1,3,5,6,9,2])) -> 2**"
   ]
  },
  {
   "cell_type": "code",
   "execution_count": null,
   "metadata": {},
   "outputs": [],
   "source": []
  }
 ],
 "metadata": {
  "kernelspec": {
   "display_name": "Python 3",
   "language": "python",
   "name": "python3"
  },
  "language_info": {
   "codemirror_mode": {
    "name": "ipython",
    "version": 3
   },
   "file_extension": ".py",
   "mimetype": "text/x-python",
   "name": "python",
   "nbconvert_exporter": "python",
   "pygments_lexer": "ipython3",
   "version": "3.7.3"
  }
 },
 "nbformat": 4,
 "nbformat_minor": 2
}
