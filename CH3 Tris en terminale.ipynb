{
 "cells": [
  {
   "cell_type": "markdown",
   "metadata": {},
   "source": [
    "# CH3 : Les tris"
   ]
  },
  {
   "cell_type": "code",
   "execution_count": 18,
   "metadata": {},
   "outputs": [],
   "source": [
    "import random \n",
    "import datetime"
   ]
  },
  {
   "cell_type": "markdown",
   "metadata": {},
   "source": [
    "## Tri par insertion et tri par sélection (rappels) "
   ]
  },
  {
   "cell_type": "code",
   "execution_count": 32,
   "metadata": {},
   "outputs": [],
   "source": [
    "def tri_insertion(t):\n",
    "     ''' entree : tableau non trié\n",
    "        sortie : tableau trié\n",
    "        principe  : tri par insertion\n",
    "     '''\n",
    "    n = len(t)\n",
    "    for i in range(1,n):\n",
    "        element_a_placer=t[i]\n",
    "        #print(t)\n",
    "        #print('à placer:',t[i])\n",
    "        # combien d'éléments doivent se décaler pour laisser la place\n",
    "        j=i-1\n",
    "        while j >=0 and t[j]>element_a_placer:\n",
    "            t[j+1]=t[j]\n",
    "            j=j-1          \n",
    "        # ici t[j]<=element_a_placer ou j=-1, on peut placer l'élément après \n",
    "        t[j+1]=element_a_placer\n",
    "    return l\n",
    "        \n",
    "        \n",
    "# TERMINAISON : dans la boucle while j est strictement décroissant\n",
    "# CORRECTION : l'invariant de boucle est : t[0..j] est trié "
   ]
  },
  {
   "cell_type": "code",
   "execution_count": 31,
   "metadata": {},
   "outputs": [],
   "source": [
    "def tri_selection(t):\n",
    "     ''' entree : tableau non trié\n",
    "        sortie : tableau trié\n",
    "        principe  : tri par selection\n",
    "    '''\n",
    "    n=len(t)\n",
    "    for i in range(0,n):\n",
    "       # print(t)\n",
    "        # selection de l'élément à ranger en i par defaut on prend t[i]\n",
    "        index_du_min=i\n",
    "        for j in range(i+1,n):\n",
    "            if t[j]<t[index_du_min]:\n",
    "                index_du_min=j\n",
    "        #le min est en index_du_min on inverse t[i] et t[index_du_min]\n",
    "        t[i],t[index_du_min]=t[index_du_min],t[i]\n",
    "    \n",
    "            \n",
    "# TERMINAISON : boucles bornées\n",
    "# CORRECTION : l'invariant de boucle est t[0..i] est trié et contient les + petits"
   ]
  },
  {
   "cell_type": "markdown",
   "metadata": {},
   "source": [
    "## Le tri-fusion\n",
    "\n",
    "![source wikipedia]( https://upload.wikimedia.org/wikipedia/commons/6/60/Mergesort_algorithm_diagram.png)\n",
    "\n",
    "### La fonction fusion"
   ]
  },
  {
   "cell_type": "code",
   "execution_count": 15,
   "metadata": {},
   "outputs": [],
   "source": [
    "#batterie de tests\n",
    "assert fusion([1,3,5],[2,6,7,8])==[1, 2, 3, 5, 6, 7, 8]\n",
    "assert fusion([1],[2])==[1, 2]\n",
    "assert fusion([2],[1])==[1, 2]\n",
    "assert fusion([],[1])==[1]"
   ]
  },
  {
   "cell_type": "code",
   "execution_count": 13,
   "metadata": {},
   "outputs": [],
   "source": [
    "def fusion(t1,t2):\n",
    "    ''' entree : t1 et t2 deux tableaux triés\n",
    "        sortie : fusion de t1 et t2 en respectant l'ordre '''\n",
    "    # terminaison\n",
    "    if len(t1)==0:\n",
    "        return t2\n",
    "    if len(t2)==0:\n",
    "        return t1\n",
    "    if t1[0]<t2[0]:\n",
    "        return [t1[0]]+fusion(t1[1:],t2)\n",
    "    else:\n",
    "        return [t2[0]]+fusion(t1,t2[1:])"
   ]
  },
  {
   "cell_type": "markdown",
   "metadata": {},
   "source": [
    "### La fonction tri_fusion"
   ]
  },
  {
   "cell_type": "code",
   "execution_count": 28,
   "metadata": {},
   "outputs": [],
   "source": [
    "# batterie de tests\n",
    "assert tri_fusion([1,2])==[1,2]\n",
    "assert tri_fusion([2,1])==[1,2]\n",
    "assert tri_fusion([108, 731, 999, 865, 944, 101, 809, 150, 508, 561])==[101, 108, 150, 508, 561, 731, 809, 865, 944, 999]"
   ]
  },
  {
   "cell_type": "code",
   "execution_count": 55,
   "metadata": {},
   "outputs": [],
   "source": [
    "def tri_fusion(t):\n",
    "    ''' entree : tableau non trié\n",
    "        sortie : tableau trié\n",
    "        principe  : tri recursif : \"diviser pour reigner\"\n",
    "    '''\n",
    "    taille = len(t)\n",
    "    if taille==1: # terminaison\n",
    "        return t\n",
    "    else:\n",
    "        milieu=taille//2 # recursion\n",
    "        return fusion(tri_fusion(t[:milieu]),tri_fusion(t[milieu:]))   \n",
    "    #la terminaison est assuree par la decroissance des appels récursifs "
   ]
  },
  {
   "cell_type": "markdown",
   "metadata": {},
   "source": [
    "# comparaison des performances\n",
    "\n",
    "* Tri insertion et sélection sont en O(n²)\n",
    "* Tri fusion en O(nlogn)\n"
   ]
  },
  {
   "cell_type": "code",
   "execution_count": 51,
   "metadata": {},
   "outputs": [],
   "source": [
    "n = 1000\n",
    "t=[random.randint(1,1000) for i in range(n)]   "
   ]
  },
  {
   "cell_type": "code",
   "execution_count": 52,
   "metadata": {},
   "outputs": [
    {
     "name": "stdout",
     "output_type": "stream",
     "text": [
      "tri insertion :  0.09801\n"
     ]
    }
   ],
   "source": [
    "# tri insertion\n",
    "t1=t[:] #recopie\n",
    "start = datetime.datetime.now()\n",
    "t2=tri_insertion(t1)\n",
    "end = datetime.datetime.now()\n",
    "print(\"tri insertion : \",(end-start).total_seconds())"
   ]
  },
  {
   "cell_type": "code",
   "execution_count": 53,
   "metadata": {},
   "outputs": [
    {
     "name": "stdout",
     "output_type": "stream",
     "text": [
      "tri selection :  0.088008\n"
     ]
    }
   ],
   "source": [
    "# tri selection\n",
    "t1=t[:] #recopie\n",
    "start = datetime.datetime.now()\n",
    "t2=tri_selection(t1)\n",
    "end = datetime.datetime.now()\n",
    "print(\"tri selection : \",(end-start).total_seconds())"
   ]
  },
  {
   "cell_type": "code",
   "execution_count": 54,
   "metadata": {},
   "outputs": [
    {
     "name": "stdout",
     "output_type": "stream",
     "text": [
      "tri fusion :  0.023003\n"
     ]
    }
   ],
   "source": [
    "# tri fusion\n",
    "t1=t[:] #recopie\n",
    "start = datetime.datetime.now()\n",
    "t2=tri_fusion(t1)\n",
    "end = datetime.datetime.now()\n",
    "print(\"tri fusion : \",(end-start).total_seconds())"
   ]
  },
  {
   "cell_type": "code",
   "execution_count": null,
   "metadata": {},
   "outputs": [],
   "source": []
  }
 ],
 "metadata": {
  "kernelspec": {
   "display_name": "Python 3",
   "language": "python",
   "name": "python3"
  },
  "language_info": {
   "codemirror_mode": {
    "name": "ipython",
    "version": 3
   },
   "file_extension": ".py",
   "mimetype": "text/x-python",
   "name": "python",
   "nbconvert_exporter": "python",
   "pygments_lexer": "ipython3",
   "version": "3.7.3"
  }
 },
 "nbformat": 4,
 "nbformat_minor": 2
}
