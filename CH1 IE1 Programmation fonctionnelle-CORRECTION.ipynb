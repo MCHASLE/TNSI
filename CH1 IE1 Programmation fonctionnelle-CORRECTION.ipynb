{
 "cells": [
  {
   "cell_type": "markdown",
   "metadata": {},
   "source": [
    "# CH1 - Interrogation sur 10 points\n",
    "\n",
    "Dans chaque cas on prendra soin de :\n",
    "- documenter correctement la fonction\n",
    "- proposer un jeu de test pertinent\n",
    "\n",
    "Documents interdits\n",
    "\n",
    "durée estimée 30 min.\n",
    "\n",
    "----\n"
   ]
  },
  {
   "cell_type": "markdown",
   "metadata": {},
   "source": [
    "## Question 1 : Réaliser la fonction cumul\n",
    "\n",
    "Cette fonction calcule la somme cumulée des entiers naturels jusq'à n, c'est à dire cumul(n) = 1+2+...+n \n",
    "\n",
    "**ex : cumul(5) -> 15**"
   ]
  },
  {
   "cell_type": "code",
   "execution_count": 3,
   "metadata": {},
   "outputs": [],
   "source": [
    "def cumul(n):\n",
    "    '''\n",
    "    entree : n entier\n",
    "    sortie : entier = 1+2+... n\n",
    "    '''\n",
    "    somme=0 #initialisation\n",
    "    for i in range(1,n+1):\n",
    "        somme=i+somme\n",
    "    return somme"
   ]
  },
  {
   "cell_type": "code",
   "execution_count": 4,
   "metadata": {},
   "outputs": [],
   "source": [
    "assert cumul(5)==15\n",
    "assert cumul(1)==1\n",
    "assert cumul(2)==3\n",
    "assert cumul(100)==5050"
   ]
  },
  {
   "cell_type": "markdown",
   "metadata": {},
   "source": [
    "## Question 2 : Réaliser la fonction ecart\n",
    "\n",
    "Cette fonction prend en entier un tableau non vide et retourne le plus grand écart possible entre 2 valeurs de celui-ci.\n",
    "\n",
    "**ex  : ecart([1,3,4,8,2] -> 7**"
   ]
  },
  {
   "cell_type": "code",
   "execution_count": 11,
   "metadata": {},
   "outputs": [],
   "source": [
    "def ecart(tab):\n",
    "    '''\n",
    "    entree : tab tableau de nombres \n",
    "    sortie : nombre le plus grand ecart\n",
    "    '''\n",
    "    assert len(tab)>0,'tableau vide'\n",
    "    mintempo,maxtempo=tab[0],tab[0] #initialisation\n",
    "    for e in tab:\n",
    "        if e > maxtempo:\n",
    "            maxtempo=e\n",
    "        if e < mintempo:\n",
    "            mintempo=e         \n",
    "    return maxtempo-mintempo"
   ]
  },
  {
   "cell_type": "code",
   "execution_count": 12,
   "metadata": {},
   "outputs": [],
   "source": [
    "# tests\n",
    "assert ecart([1,3,4,8,2])==7\n",
    "assert ecart([1])==0\n",
    "assert ecart([1,1,4,8,8])==7             "
   ]
  },
  {
   "cell_type": "markdown",
   "metadata": {},
   "source": [
    "## Question 3 : Réaliser la fonction verif\n",
    "\n",
    "Cette fonction prend en entrée une chaine et un caractère et retourne si oui ou non le caractère est présent\n",
    "\n",
    "**ex : verif(\" bonjour à tous\",\"e\") -> False**"
   ]
  },
  {
   "cell_type": "code",
   "execution_count": 14,
   "metadata": {},
   "outputs": [],
   "source": [
    "def verif(texte,car):\n",
    "    '''\n",
    "    entree : texte chaine, car caractère\n",
    "    sortie : (bool) si oui ou non car est dans texte\n",
    "    '''\n",
    "    for c in texte:\n",
    "        if c==car:\n",
    "            return True\n",
    "    return False"
   ]
  },
  {
   "cell_type": "code",
   "execution_count": 16,
   "metadata": {},
   "outputs": [],
   "source": [
    "assert verif(\" bonjour à tous\",\"e\") == False\n",
    "assert verif(\" bonjour à tous\",\"t\") == True\n",
    "assert verif(\"b\",\"t\") == False\n",
    "assert verif(\"b\",\"b\") == True"
   ]
  },
  {
   "cell_type": "code",
   "execution_count": null,
   "metadata": {},
   "outputs": [],
   "source": []
  }
 ],
 "metadata": {
  "kernelspec": {
   "display_name": "Python 3",
   "language": "python",
   "name": "python3"
  },
  "language_info": {
   "codemirror_mode": {
    "name": "ipython",
    "version": 3
   },
   "file_extension": ".py",
   "mimetype": "text/x-python",
   "name": "python",
   "nbconvert_exporter": "python",
   "pygments_lexer": "ipython3",
   "version": "3.7.3"
  }
 },
 "nbformat": 4,
 "nbformat_minor": 2
}
